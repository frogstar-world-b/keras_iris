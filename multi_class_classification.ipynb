{
 "cells": [
  {
   "cell_type": "markdown",
   "metadata": {},
   "source": [
    "We use the Iris dataset, which has 4 numeric features and one target categorical variable that has three classes. http://archive.ics.uci.edu/ml/datasets/Iris\n",
    "\n"
   ]
  },
  {
   "cell_type": "code",
   "execution_count": 1,
   "metadata": {},
   "outputs": [
    {
     "name": "stderr",
     "output_type": "stream",
     "text": [
      "Using TensorFlow backend.\n"
     ]
    }
   ],
   "source": [
    "from keras.models import Sequential\n",
    "from keras.layers import Dense\n",
    "from keras.wrappers.scikit_learn import KerasClassifier\n",
    "from keras.utils import np_utils\n",
    "from sklearn import datasets\n",
    "from sklearn.model_selection import cross_val_score\n",
    "from sklearn.model_selection import KFold\n",
    "import time"
   ]
  },
  {
   "cell_type": "code",
   "execution_count": 2,
   "metadata": {},
   "outputs": [],
   "source": [
    "def get_class_name(val):\n",
    "    if val == 0:\n",
    "        return 'setosa'\n",
    "    if val == 1:\n",
    "        return 'versicolor'\n",
    "    if val == 2:\n",
    "        return 'virginica'\n",
    "\n",
    "    \n",
    "def NN_model():\n",
    "    model = Sequential()\n",
    "    # hidden layer with 10 neurons, 4 input vectors, and relu activation\n",
    "    model.add(Dense(10, input_dim=4, activation='relu'))\n",
    "    # output layer with 3 classes and softmax activation \n",
    "    model.add(Dense(3, activation='softmax'))\n",
    "    # Compile model with appropriate loss function and optimization algorithm\n",
    "    model.compile(loss='categorical_crossentropy', \n",
    "                  optimizer='adam', \n",
    "                  metrics=['accuracy'])\n",
    "    return model"
   ]
  },
  {
   "cell_type": "code",
   "execution_count": 3,
   "metadata": {},
   "outputs": [
    {
     "name": "stdout",
     "output_type": "stream",
     "text": [
      "What is in the iris object? dict_keys(['data', 'target', 'target_names', 'DESCR', 'feature_names'])\n",
      "Classes: ['setosa' 'versicolor' 'virginica']\n"
     ]
    }
   ],
   "source": [
    "# load data\n",
    "iris = datasets.load_iris()\n",
    "print('What is in the iris object?', iris.keys())\n",
    "print('Classes:', iris['target_names'])"
   ]
  },
  {
   "cell_type": "code",
   "execution_count": 4,
   "metadata": {
    "collapsed": true
   },
   "outputs": [],
   "source": [
    "# extract features(X) and corresponding class labels (Y)\n",
    "X = iris.data\n",
    "Y = iris.target\n",
    "class_names = [get_class_name(i) for i in Y]\n",
    "# convert integers to dummy variables (i.e. one hot encoded)\n",
    "dummy_y = np_utils.to_categorical(Y)"
   ]
  },
  {
   "cell_type": "code",
   "execution_count": 5,
   "metadata": {
    "collapsed": true
   },
   "outputs": [],
   "source": [
    "# to see the progress bar, set verbose=1\n",
    "estimator = KerasClassifier(build_fn=NN_model, \n",
    "                            epochs=100, batch_size=5, \n",
    "                            verbose=0)"
   ]
  },
  {
   "cell_type": "code",
   "execution_count": 6,
   "metadata": {},
   "outputs": [],
   "source": [
    "# 5-fold (k-Fold) Cross Validation\n",
    "kfold = KFold(n_splits=5, shuffle=True, random_state=10)"
   ]
  },
  {
   "cell_type": "code",
   "execution_count": 7,
   "metadata": {},
   "outputs": [
    {
     "name": "stdout",
     "output_type": "stream",
     "text": [
      "Accuracy mean and standard deviation: 97.33% (2.49%)\n",
      "Time to run k-fold validation runs: 14.799083948135376 seconds\n"
     ]
    }
   ],
   "source": [
    "a = time.time()\n",
    "# run it and get accuracy metric\n",
    "results = cross_val_score(estimator, X, dummy_y, cv=kfold)\n",
    "print(\"Accuracy mean and standard deviation: %.2f%% (%.2f%%)\" % (results.mean()*100, results.std()*100))\n",
    "print('Time to run k-fold validation runs:', time.time() - a, 'seconds')"
   ]
  }
 ],
 "metadata": {
  "kernelspec": {
   "display_name": "Python 3",
   "language": "python",
   "name": "python3"
  },
  "language_info": {
   "codemirror_mode": {
    "name": "ipython",
    "version": 3
   },
   "file_extension": ".py",
   "mimetype": "text/x-python",
   "name": "python",
   "nbconvert_exporter": "python",
   "pygments_lexer": "ipython3",
   "version": "3.6.3"
  }
 },
 "nbformat": 4,
 "nbformat_minor": 2
}
